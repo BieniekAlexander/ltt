{
 "cells": [
  {
   "cell_type": "markdown",
   "metadata": {},
   "source": [
    "# Introduction\n",
    "I use this notebook to run manual administration tasks on the datastore."
   ]
  },
  {
   "cell_type": "code",
   "execution_count": 9,
   "metadata": {},
   "outputs": [],
   "source": [
    "# imports\n",
    "import os\n",
    "from dotenv import load_dotenv\n",
    "from pymongo import MongoClient"
   ]
  },
  {
   "cell_type": "code",
   "execution_count": 10,
   "metadata": {},
   "outputs": [],
   "source": [
    "from training.sm2_anki.stats import Stats\n",
    "from training.sm2_anki.recall import Recall"
   ]
  },
  {
   "cell_type": "code",
   "execution_count": 11,
   "metadata": {},
   "outputs": [],
   "source": [
    "# initialize environment\n",
    "load_dotenv('../.env')\n",
    "client = MongoClient(os.environ['MONGODB_URI'])"
   ]
  },
  {
   "cell_type": "code",
   "execution_count": 12,
   "metadata": {},
   "outputs": [],
   "source": [
    "db = client.chinese\n",
    "vocabulary_connection = db['vocabulary']"
   ]
  },
  {
   "cell_type": "code",
   "execution_count": 13,
   "metadata": {},
   "outputs": [],
   "source": [
    "all_entries = list(vocabulary_connection.find({}))"
   ]
  },
  {
   "cell_type": "code",
   "execution_count": 14,
   "metadata": {},
   "outputs": [],
   "source": [
    "for entry in all_entries:\n",
    "    stats = entry['stats']\n",
    "    \n",
    "    for fact in stats:\n",
    "        stats[fact]['interval'] = max(stats[fact]['interval'], 365)\n",
    "        stats[fact]['ef'] = max(stats[fact]['ef'], 5.0)"
   ]
  },
  {
   "cell_type": "code",
   "execution_count": 15,
   "metadata": {},
   "outputs": [
    {
     "data": {
      "text/plain": [
       "{'_id': ObjectId('63cc654e8b14afcdbc4d9f8e'),\n",
       " 'lexeme_id': ObjectId('63cc654d8b14afcdbc4d9f8d'),\n",
       " 'user_id': ObjectId('62a57d5bfa96028f59ac1d75'),\n",
       " 'stats': {}}"
      ]
     },
     "execution_count": 15,
     "metadata": {},
     "output_type": "execute_result"
    }
   ],
   "source": [
    "entry"
   ]
  },
  {
   "cell_type": "code",
   "execution_count": 16,
   "metadata": {},
   "outputs": [
    {
     "data": {
      "text/plain": [
       "<pymongo.results.InsertManyResult at 0x7f05ec2172c0>"
      ]
     },
     "execution_count": 16,
     "metadata": {},
     "output_type": "execute_result"
    }
   ],
   "source": [
    "vocabulary_connection.drop()\n",
    "vocabulary_connection.insert_many(all_entries)"
   ]
  }
 ],
 "metadata": {
  "kernelspec": {
   "display_name": "Python 3.9.13 ('ltt')",
   "language": "python",
   "name": "python3"
  },
  "language_info": {
   "codemirror_mode": {
    "name": "ipython",
    "version": 3
   },
   "file_extension": ".py",
   "mimetype": "text/x-python",
   "name": "python",
   "nbconvert_exporter": "python",
   "pygments_lexer": "ipython3",
   "version": "3.9.13"
  },
  "orig_nbformat": 4,
  "vscode": {
   "interpreter": {
    "hash": "834e2708aaaf7c59f91aebf7be059f2efbcb5c76da8ad0e0341ff0922bd937ec"
   }
  }
 },
 "nbformat": 4,
 "nbformat_minor": 2
}
