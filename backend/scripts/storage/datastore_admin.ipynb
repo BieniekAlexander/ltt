{
 "cells": [
  {
   "cell_type": "markdown",
   "metadata": {},
   "source": [
    "# Introduction\n",
    "I use this notebook to run manual administration tasks on the datastore."
   ]
  },
  {
   "cell_type": "code",
   "execution_count": 1,
   "metadata": {},
   "outputs": [],
   "source": [
    "# imports\n",
    "import os\n",
    "from dotenv import load_dotenv\n",
    "from pymongo import MongoClient"
   ]
  },
  {
   "cell_type": "code",
   "execution_count": 2,
   "metadata": {},
   "outputs": [],
   "source": [
    "from training.sm2_anki.stats import Stats\n",
    "from training.sm2_anki.recall import Recall"
   ]
  },
  {
   "cell_type": "code",
   "execution_count": 3,
   "metadata": {},
   "outputs": [],
   "source": [
    "# initialize environment\n",
    "load_dotenv('../.env')\n",
    "client = MongoClient(os.environ['MONGODB_URI'])"
   ]
  },
  {
   "cell_type": "code",
   "execution_count": 4,
   "metadata": {},
   "outputs": [],
   "source": [
    "db = client.chinese\n",
    "vocabulary_connection = db['vocabulary']"
   ]
  },
  {
   "cell_type": "code",
   "execution_count": 8,
   "metadata": {},
   "outputs": [],
   "source": [
    "all_entries = list(vocabulary_connection.find({}))"
   ]
  },
  {
   "cell_type": "code",
   "execution_count": 9,
   "metadata": {},
   "outputs": [
    {
     "name": "stdout",
     "output_type": "stream",
     "text": [
      "{'_id': ObjectId('63b4cce8919976f473472882'), 'lexeme_id': ObjectId('63b4cce8919976f473472881'), 'user_id': ObjectId('62a57d5bfa96028f59ac1d75'), 'stats': {'spoken': {'interval': 0, 'ef': 2.5, 'recall': None, 'step': 0}}}\n",
      "{'_id': ObjectId('63b4cced919976f473472884'), 'lexeme_id': ObjectId('63b4cced919976f473472883'), 'user_id': ObjectId('62a57d5bfa96028f59ac1d75'), 'stats': {'spoken': {'interval': 0, 'ef': 2.5, 'recall': None, 'step': 0}}}\n",
      "{'_id': ObjectId('63b4ccf4919976f473472886'), 'lexeme_id': ObjectId('63b4ccf4919976f473472885'), 'user_id': ObjectId('62a57d5bfa96028f59ac1d75'), 'stats': {'spoken': {'interval': 0, 'ef': 2.5, 'recall': None, 'step': 0}}}\n",
      "{'_id': ObjectId('63b4ccfb919976f473472888'), 'lexeme_id': ObjectId('63b4ccfb919976f473472887'), 'user_id': ObjectId('62a57d5bfa96028f59ac1d75'), 'stats': {'spoken': {'interval': 0, 'ef': 2.5, 'recall': None, 'step': 0}}}\n",
      "{'_id': ObjectId('63b4cd03919976f47347288a'), 'lexeme_id': ObjectId('63b4cd03919976f473472889'), 'user_id': ObjectId('62a57d5bfa96028f59ac1d75'), 'stats': {'spoken': {'interval': 0, 'ef': 2.5, 'recall': None, 'step': 0}}}\n",
      "{'_id': ObjectId('63b4cd0a919976f47347288c'), 'lexeme_id': ObjectId('63b4cd0a919976f47347288b'), 'user_id': ObjectId('62a57d5bfa96028f59ac1d75'), 'stats': {'spoken': {'interval': 0, 'ef': 2.5, 'recall': None, 'step': 0}}}\n",
      "{'_id': ObjectId('63b4cf16880a3ddacf90e267'), 'lexeme_id': ObjectId('63b4cf16880a3ddacf90e266'), 'user_id': ObjectId('62a57d5bfa96028f59ac1d75'), 'stats': {'spoken': {'interval': 0, 'ef': 2.5, 'recall': None, 'step': 0}}}\n",
      "{'_id': ObjectId('63b4cf1c880a3ddacf90e269'), 'lexeme_id': ObjectId('63b4cf1c880a3ddacf90e268'), 'user_id': ObjectId('62a57d5bfa96028f59ac1d75'), 'stats': {'spoken': {'interval': 0, 'ef': 2.5, 'recall': None, 'step': 0}}}\n",
      "{'_id': ObjectId('63b4cf23880a3ddacf90e26b'), 'lexeme_id': ObjectId('63b4cf23880a3ddacf90e26a'), 'user_id': ObjectId('62a57d5bfa96028f59ac1d75'), 'stats': {'spoken': {'interval': 0, 'ef': 2.5, 'recall': None, 'step': 0}}}\n"
     ]
    }
   ],
   "source": [
    "for entry in all_entries:\n",
    "    if 'vocabulary_set' in entry['stats']:\n",
    "        entry['stats']['spoken'] = entry['stats'].pop('vocabulary_set')\n",
    "        print(entry)"
   ]
  },
  {
   "cell_type": "code",
   "execution_count": 10,
   "metadata": {},
   "outputs": [
    {
     "data": {
      "text/plain": [
       "<pymongo.results.InsertManyResult at 0x7ff9825ce940>"
      ]
     },
     "execution_count": 10,
     "metadata": {},
     "output_type": "execute_result"
    }
   ],
   "source": [
    "vocabulary_connection.drop()\n",
    "vocabulary_connection.insert_many(all_entries)"
   ]
  }
 ],
 "metadata": {
  "kernelspec": {
   "display_name": "Python 3.9.13 ('ltt')",
   "language": "python",
   "name": "python3"
  },
  "language_info": {
   "codemirror_mode": {
    "name": "ipython",
    "version": 3
   },
   "file_extension": ".py",
   "mimetype": "text/x-python",
   "name": "python",
   "nbconvert_exporter": "python",
   "pygments_lexer": "ipython3",
   "version": "3.9.13"
  },
  "orig_nbformat": 4,
  "vscode": {
   "interpreter": {
    "hash": "834e2708aaaf7c59f91aebf7be059f2efbcb5c76da8ad0e0341ff0922bd937ec"
   }
  }
 },
 "nbformat": 4,
 "nbformat_minor": 2
}
