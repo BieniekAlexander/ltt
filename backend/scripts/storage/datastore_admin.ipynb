{
 "cells": [
  {
   "cell_type": "markdown",
   "metadata": {},
   "source": [
    "# Introduction\n",
    "I use this notebook to run manual administration tasks on the datastore."
   ]
  },
  {
   "cell_type": "code",
   "execution_count": 1,
   "metadata": {},
   "outputs": [],
   "source": [
    "# imports\n",
    "import os\n",
    "from dotenv import load_dotenv\n",
    "from pymongo import MongoClient"
   ]
  },
  {
   "cell_type": "code",
   "execution_count": 2,
   "metadata": {},
   "outputs": [],
   "source": [
    "from training.sm2_anki.stats import Stats\n",
    "from training.sm2_anki.recall import Recall"
   ]
  },
  {
   "cell_type": "code",
   "execution_count": 3,
   "metadata": {},
   "outputs": [],
   "source": [
    "# initialize environment\n",
    "load_dotenv('../.env')\n",
    "client = MongoClient(os.environ['MONGODB_URI'])"
   ]
  },
  {
   "cell_type": "code",
   "execution_count": 4,
   "metadata": {},
   "outputs": [],
   "source": [
    "polish_db = client.polish\n",
    "polish_vocab_collection = polish_db['vocabulary']"
   ]
  },
  {
   "cell_type": "code",
   "execution_count": 5,
   "metadata": {},
   "outputs": [],
   "source": [
    "all_vocab = list(polish_vocab_collection.find({}))"
   ]
  },
  {
   "cell_type": "code",
   "execution_count": 6,
   "metadata": {},
   "outputs": [
    {
     "data": {
      "text/plain": [
       "{'_id': ObjectId('635b46a4b02a1db98b004626'),\n",
       " 'lexeme_id': ObjectId('635988ecbdad1a4dc547ac29'),\n",
       " 'user_id': ObjectId('62a57d5bfa96028f59ac1d75'),\n",
       " 'stats': {'definition': {'repetition': 0,\n",
       "   'interval': 1,\n",
       "   'ef': 2.5,\n",
       "   'recall': None,\n",
       "   'step': -1}}}"
      ]
     },
     "execution_count": 6,
     "metadata": {},
     "output_type": "execute_result"
    }
   ],
   "source": [
    "for vocab in all_vocab:\n",
    "    vocab['stats'] = vocab['training']\n",
    "    vocab.pop('training')\n",
    "\n",
    "vocab"
   ]
  },
  {
   "cell_type": "code",
   "execution_count": 7,
   "metadata": {},
   "outputs": [
    {
     "data": {
      "text/plain": [
       "<pymongo.results.InsertManyResult at 0x7f8c963fd840>"
      ]
     },
     "execution_count": 7,
     "metadata": {},
     "output_type": "execute_result"
    }
   ],
   "source": [
    "polish_vocab_collection.drop()\n",
    "polish_vocab_collection.insert_many(all_vocab)"
   ]
  }
 ],
 "metadata": {
  "kernelspec": {
   "display_name": "Python 3.9.13 ('ltt')",
   "language": "python",
   "name": "python3"
  },
  "language_info": {
   "codemirror_mode": {
    "name": "ipython",
    "version": 3
   },
   "file_extension": ".py",
   "mimetype": "text/x-python",
   "name": "python",
   "nbconvert_exporter": "python",
   "pygments_lexer": "ipython3",
   "version": "3.9.13"
  },
  "orig_nbformat": 4,
  "vscode": {
   "interpreter": {
    "hash": "834e2708aaaf7c59f91aebf7be059f2efbcb5c76da8ad0e0341ff0922bd937ec"
   }
  }
 },
 "nbformat": 4,
 "nbformat_minor": 2
}
