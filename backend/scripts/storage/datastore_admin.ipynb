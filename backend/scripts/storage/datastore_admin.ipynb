{
 "cells": [
  {
   "cell_type": "markdown",
   "metadata": {},
   "source": [
    "# Introduction\n",
    "I use this notebook to run manual administration tasks on the datastore."
   ]
  },
  {
   "attachments": {},
   "cell_type": "markdown",
   "metadata": {},
   "source": [
    "## Setup MongoDB Environment"
   ]
  },
  {
   "cell_type": "code",
   "execution_count": 1,
   "metadata": {},
   "outputs": [],
   "source": [
    "# imports\n",
    "import os\n",
    "from dotenv import load_dotenv\n",
    "from pymongo import MongoClient"
   ]
  },
  {
   "cell_type": "code",
   "execution_count": 2,
   "metadata": {},
   "outputs": [],
   "source": [
    "from training.ebisu.stats import Stats\n",
    "from utils.data_structure_utils import get_nested_iterable_values"
   ]
  },
  {
   "cell_type": "code",
   "execution_count": 3,
   "metadata": {},
   "outputs": [],
   "source": [
    "# initialize environment\n",
    "load_dotenv('../.env')\n",
    "client = MongoClient(os.environ['MONGODB_URI'])"
   ]
  },
  {
   "cell_type": "code",
   "execution_count": 4,
   "metadata": {},
   "outputs": [],
   "source": [
    "db = client.chinese\n",
    "lexicon_connection = db['lexicon']\n",
    "vocabulary_connection = db['vocabulary']"
   ]
  },
  {
   "attachments": {},
   "cell_type": "markdown",
   "metadata": {},
   "source": [
    "## Pipeline to Join and Export Vocab and Lexemes"
   ]
  },
  {
   "cell_type": "code",
   "execution_count": 9,
   "metadata": {},
   "outputs": [],
   "source": [
    "all_vocabulary_pipeline = [\n",
    "    {\n",
    "        '$lookup': {\n",
    "            'from': 'lexicon', \n",
    "            'localField': 'lexeme_id', \n",
    "            'foreignField': '_id', \n",
    "            'as': 'lexeme'\n",
    "        }\n",
    "    }, {\n",
    "        '$match': {\n",
    "            'stats.written_to_definition': {\n",
    "                '$exists': False\n",
    "            }\n",
    "        }\n",
    "    }\n",
    "]\n",
    "\n",
    "results = list(vocabulary_connection.aggregate(all_vocabulary_pipeline))\n",
    "\n",
    "with open('/home/alex/chinese_vocab.json', 'w') as f:\n",
    "    f.write(str(results))"
   ]
  },
  {
   "attachments": {},
   "cell_type": "markdown",
   "metadata": {},
   "source": [
    "## Hotfix Scripts"
   ]
  },
  {
   "cell_type": "code",
   "execution_count": 132,
   "metadata": {},
   "outputs": [],
   "source": [
    "all_lexeme_entries = list(lexicon_connection.find({}))\n",
    "all_vocab_entries = list(vocabulary_connection.find({}))"
   ]
  },
  {
   "cell_type": "code",
   "execution_count": 133,
   "metadata": {},
   "outputs": [],
   "source": [
    "lexeme_ids = list(map(lambda x: x['_id'], all_lexeme_entries))\n",
    "vocab_lexeme_ids = list(map(lambda x: x['lexeme_id'], all_vocab_entries))"
   ]
  },
  {
   "cell_type": "code",
   "execution_count": 135,
   "metadata": {},
   "outputs": [
    {
     "data": {
      "text/plain": [
       "64"
      ]
     },
     "execution_count": 135,
     "metadata": {},
     "output_type": "execute_result"
    }
   ],
   "source": [
    "len(all_lexeme_entries)"
   ]
  },
  {
   "cell_type": "code",
   "execution_count": 114,
   "metadata": {},
   "outputs": [
    {
     "data": {
      "text/plain": [
       "<pymongo.results.InsertManyResult at 0x7f2d431ff780>"
      ]
     },
     "execution_count": 114,
     "metadata": {},
     "output_type": "execute_result"
    }
   ],
   "source": [
    "# vocabulary_connection.drop()\n",
    "# vocabulary_connection.insert_many(new_vocab_entries)"
   ]
  }
 ],
 "metadata": {
  "kernelspec": {
   "display_name": "ltt-backend",
   "language": "python",
   "name": "python3"
  },
  "language_info": {
   "codemirror_mode": {
    "name": "ipython",
    "version": 3
   },
   "file_extension": ".py",
   "mimetype": "text/x-python",
   "name": "python",
   "nbconvert_exporter": "python",
   "pygments_lexer": "ipython3",
   "version": "3.9.16"
  },
  "orig_nbformat": 4,
  "vscode": {
   "interpreter": {
    "hash": "2af4e7d59b67013a29cba37aa739251b2c24b1fe15d7d743ab453f59a4eb50cb"
   }
  }
 },
 "nbformat": 4,
 "nbformat_minor": 2
}
