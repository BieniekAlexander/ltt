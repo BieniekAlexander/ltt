{
 "cells": [
  {
   "cell_type": "code",
   "execution_count": 1,
   "metadata": {},
   "outputs": [
    {
     "name": "stderr",
     "output_type": "stream",
     "text": [
      "/home/alex/anaconda3/envs/ltt/lib/python3.9/site-packages/requests/__init__.py:102: RequestsDependencyWarning: urllib3 (1.26.12) or chardet (5.0.0)/charset_normalizer (2.0.12) doesn't match a supported version!\n",
      "  warnings.warn(\"urllib3 ({}) or chardet ({})/charset_normalizer ({}) doesn't match a supported \"\n",
      "/home/alex/anaconda3/envs/ltt/lib/python3.9/site-packages/fuzzywuzzy/fuzz.py:11: UserWarning: Using slow pure-python SequenceMatcher. Install python-Levenshtein to remove this warning\n",
      "  warnings.warn('Using slow pure-python SequenceMatcher. Install python-Levenshtein to remove this warning')\n"
     ]
    }
   ],
   "source": [
    "# imports\n",
    "import pandas as pd\n",
    "import numpy as np\n",
    "from scraping.canto_dict.canto_dict_client import get_fact_from_character\n",
    "from time import sleep\n",
    "import json"
   ]
  },
  {
   "cell_type": "code",
   "execution_count": 2,
   "metadata": {},
   "outputs": [],
   "source": [
    "radicals_df = (\n",
    "    pd\n",
    "    .read_csv('data/radicals.csv', comment='#', index_col='index', dtype={'variants': str, 'stroke_count': int})\n",
    "    .fillna(np.nan).replace([np.nan], [None])\n",
    ")"
   ]
  },
  {
   "cell_type": "code",
   "execution_count": 5,
   "metadata": {},
   "outputs": [],
   "source": [
    "radical_fact_dict = {}\n",
    "character_set_names = ['traditional','simplified']\n",
    "\n",
    "for index in radicals_df.index:\n",
    "    # scrape a radical from cantodict\n",
    "    radical = radicals_df['radical'][index]\n",
    "    fact = get_fact_from_character(radical)\n",
    "\n",
    "    if fact is None:\n",
    "        fact = {\n",
    "            'definitions': [],\n",
    "            'character': radical,\n",
    "            'is_radical': True,\n",
    "            'radicals': [radical],\n",
    "            'forms': {'traditional': radical, 'simplified': radical},\n",
    "            'romanizations': {},\n",
    "            'stroke_counts': {}\n",
    "        }\n",
    "\n",
    "    fact['lemma'] = fact.pop('character')\n",
    "    english = radicals_df['english'][index]\n",
    "    \n",
    "    # add some information from the local CSV (cantodict's data is a bit lacking)\n",
    "    fact['definitions'].insert(0, english)\n",
    "    fact['pos'] = ['Noun'] # hardcoding for now\n",
    "    variants_field = radicals_df['variants'][index]\n",
    "    fact['variants'] = list(variants_field) if variants_field is not None else []\n",
    "    fact['stroke_counts']['simplified'] = 1\n",
    "\n",
    "    # put into dictionary\n",
    "    radical_fact_dict[radical] = fact"
   ]
  },
  {
   "cell_type": "code",
   "execution_count": 6,
   "metadata": {},
   "outputs": [],
   "source": [
    "# write to file\n",
    "with open('data/radicals.json', 'w') as file:\n",
    "     file.write(json.dumps(radical_fact_dict))"
   ]
  }
 ],
 "metadata": {
  "kernelspec": {
   "display_name": "ltt",
   "language": "python",
   "name": "python3"
  },
  "language_info": {
   "codemirror_mode": {
    "name": "ipython",
    "version": 3
   },
   "file_extension": ".py",
   "mimetype": "text/x-python",
   "name": "python",
   "nbconvert_exporter": "python",
   "pygments_lexer": "ipython3",
   "version": "3.9.13"
  },
  "orig_nbformat": 4,
  "vscode": {
   "interpreter": {
    "hash": "834e2708aaaf7c59f91aebf7be059f2efbcb5c76da8ad0e0341ff0922bd937ec"
   }
  }
 },
 "nbformat": 4,
 "nbformat_minor": 2
}
